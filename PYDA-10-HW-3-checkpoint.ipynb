{
 "cells": [
  {
   "cell_type": "markdown",
   "metadata": {},
   "source": [
    "**Задача 1**. Дано слово из латинских букв. Напишите скрипт, который выводит на экран букву из середины слова (если число букв нечетное). Если букв четное число, то на экран выводятся две буквы из середины.  \n",
    "\n",
    "Пример: для 'test' должно выводится 'es', для 'testing' - 't'"
   ]
  },
  {
   "cell_type": "code",
   "execution_count": 127,
   "metadata": {},
   "outputs": [
    {
     "name": "stdout",
     "output_type": "stream",
     "text": [
      "letter index: (4, 5)\n",
      "bi\n"
     ]
    }
   ],
   "source": [
    "word = 'capability'\n",
    "if len(word) % 2 == 0:\n",
    "    letter = (int(len(word)/2-1)), int((len(word)/2))\n",
    "    print('letter index:', letter)\n",
    "    print(word[letter[0]] + word[letter[1]])\n",
    "else: \n",
    "    letter = len(word)//2\n",
    "    print('letter index;', letter)\n",
    "    print(word[letter])\n",
    "#не могу вывести на печать буквы в кавычках?!\n",
    "    #word[letter]\n",
    "#почему в этом случае вывод на печать без слова print не работает, как в ячейке ниже?"
   ]
  },
  {
   "cell_type": "code",
   "execution_count": 105,
   "metadata": {},
   "outputs": [
    {
     "data": {
      "text/plain": [
       "'es'"
      ]
     },
     "execution_count": 105,
     "metadata": {},
     "output_type": "execute_result"
    }
   ],
   "source": [
    "word = 'test'\n",
    "word[1:3]\n",
    "#почему в данном случае при выводе на печать ковычки проставляются, а в предыдущем примере нет?"
   ]
  },
  {
   "cell_type": "markdown",
   "metadata": {},
   "source": [
    "**Задача 2**. Мы делаем MVP dating-сервиса, и у нас есть список парней и девушек (их число может варьироваться):"
   ]
  },
  {
   "cell_type": "code",
   "execution_count": 122,
   "metadata": {},
   "outputs": [
    {
     "name": "stdout",
     "output_type": "stream",
     "text": [
      "Идеальные пары:\n",
      "Alex и Emma\n",
      "Arthur и Kate\n",
      "John и Kira\n",
      "Peter и Liza\n",
      "Richard и Trisha\n"
     ]
    }
   ],
   "source": [
    "boys = ['Peter', 'Alex', 'John', 'Arthur', 'Richard']\n",
    "girls = ['Kate', 'Liza', 'Kira', 'Emma', 'Trisha']\n",
    "if len(boys) != len(girls):\n",
    "    print('Внимание! Кто-то может остаться без пары.')\n",
    "else:\n",
    "    boys = sorted(boys)\n",
    "    girls = sorted(girls)\n",
    "    couples = zip(boys, girls)\n",
    "    print('Идеальные пары:')\n",
    "    for couples_2 in couples:\n",
    "        print(couples_2[0], 'и', couples_2[1])"
   ]
  },
  {
   "cell_type": "markdown",
   "metadata": {},
   "source": [
    "Выдвигаем гипотезу: лучшие рекомендации мы получим, если просто отсортируем имена по алфавиту и познакомим людей с одинаковыми индексами после сортировки! \"Познакомить\" пары нам поможет функция zip, а в цикле распакуем zip-объект и выведем информацию в виде:\n",
    "\n",
    "Идеальные пары:  \n",
    "Alex и Emma  \n",
    "Arthur и Kate  \n",
    "John и Kira  \n",
    "Peter и Liza  \n",
    "Richard и Trisha  "
   ]
  },
  {
   "cell_type": "markdown",
   "metadata": {},
   "source": [
    "**Внимание! Если количество людей в списках будет не совпадать, то мы никого знакомить не будет и выведем пользователю предупреждение, что кто-то может остаться без пары!**"
   ]
  },
  {
   "cell_type": "markdown",
   "metadata": {},
   "source": [
    "**Задача 3**. У нас есть список, содержащий информацию о среднедневной температуре в Фаренгейтах за недельный период по странам.\n",
    "Необходимо написать код, который рассчитает среднюю температуру за неделю в Цельсиях для каждой страны."
   ]
  },
  {
   "cell_type": "code",
   "execution_count": 27,
   "metadata": {},
   "outputs": [
    {
     "name": "stdout",
     "output_type": "stream",
     "text": [
      "Week average temperature in C:\n",
      "Thailand 23.85714285714285\n",
      "Germany 13.71428571428571\n",
      "Russia 3.714285714285717\n",
      "Poland 11.857142857142856\n"
     ]
    }
   ],
   "source": [
    "countries_temperature = [['Thailand', [75.2, 77, 78.8, 73.4, 68, 75.2, 77]],\n",
    " ['Germany', [57.2, 55.4, 59, 59, 53.6, 55.4, 57.2]],\n",
    " ['Russia', [35.6, 37.4, 39.2, 41, 42.8, 39.2, 35.6]],\n",
    " ['Poland', [50, 50, 53.6, 57.2, 55.4, 55.4, 51.8]]]\n",
    "print('Week average temperature in C:')\n",
    "for country in countries_temperature:\n",
    "    print(country[0], ((sum(country[1]) / 7) - 32) * 5 / 9)"
   ]
  },
  {
   "cell_type": "markdown",
   "metadata": {},
   "source": [
    "**Задача 4.** Дан поток логов по количеству просмотренных страниц для каждого пользователя. Список отсортирован по ID пользователя. Вам необходимо написать алгоритм, который считает среднее значение просмотров на пользователя. \n",
    "Т. е. надо посчитать отношение суммы всех просмотров к количеству уникальных пользователей."
   ]
  },
  {
   "cell_type": "code",
   "execution_count": 257,
   "metadata": {},
   "outputs": [
    {
     "name": "stdout",
     "output_type": "stream",
     "text": [
      "['2018-01-01', 'user1', '3']\n",
      "['2018-01-07', 'user1', '4']\n",
      "['2018-03-29', 'user1', '1']\n",
      "['2018-04-04', 'user1', '13']\n",
      "['2018-01-05', 'user2', '7']\n",
      "['2018-06-14', 'user3', '4']\n",
      "['2018-07-02', 'user3', '10']\n",
      "['2018-03-21', 'user4', '19']\n",
      "['2018-03-22', 'user4', '4']\n",
      "['2018-04-22', 'user4', '8']\n",
      "['2018-05-03', 'user4', '9']\n",
      "['2018-05-11', 'user4', '11']\n",
      "['user1', 'user2', 'user3', 'user4']\n",
      "[3, 4, 1, 13, 7, 4, 10, 19, 4, 8, 9, 11]\n",
      "4\n",
      "93\n",
      "Aver reviews per log: 23\n"
     ]
    }
   ],
   "source": [
    "stream = ['2018-01-01,user1,3',\n",
    "    '2018-01-07,user1,4',\n",
    "    '2018-03-29,user1,1',\n",
    "    '2018-04-04,user1,13',\n",
    "    '2018-01-05,user2,7',\n",
    "    '2018-06-14,user3,4',\n",
    "    '2018-07-02,user3,10',\n",
    "    '2018-03-21,user4,19',\n",
    "    '2018-03-22,user4,4',\n",
    "    '2018-04-22,user4,8',\n",
    "    '2018-05-03,user4,9',\n",
    "    '2018-05-11,user4,11',]\n",
    "logs = []\n",
    "reviews = []\n",
    "for users in stream:\n",
    "    user_id = users.split(',')\n",
    "    print(user_id)\n",
    "    if user_id[1] not in logs:\n",
    "        logs.append(user_id[1])\n",
    "    reviews.append(int(user_id[2]))\n",
    "print(logs)\n",
    "print(reviews)\n",
    "print(len(logs))\n",
    "ttl_reviews = sum(reviews)\n",
    "print(ttl_reviews)\n",
    "print('Aver reviews per log:', ttl_reviews // len(logs))"
   ]
  },
  {
   "cell_type": "markdown",
   "metadata": {},
   "source": [
    "**Задача 5**. Дана статистика рекламных кампаний по дням. Напишите алгоритм, который по паре дата-кампания ищет значение численного столбца. \n",
    "Т. е. для даты '2018-01-01' и 'google' нужно получить число 25. \n",
    "Считайте, что все комбинации дата-кампания уникальны."
   ]
  },
  {
   "cell_type": "code",
   "execution_count": 270,
   "metadata": {},
   "outputs": [
    {
     "name": "stdout",
     "output_type": "stream",
     "text": [
      "Дата ГГГГ-ММ-ДД: 2018-01-01\n",
      "Кампаня: google\n",
      "Рекламных кампаний: 25\n"
     ]
    }
   ],
   "source": [
    "stats = [\n",
    "    ['2018-01-01', 'google', 25],\n",
    "    ['2018-01-01', 'yandex', 65],\n",
    "    ['2018-01-01', 'market', 89],\n",
    "    ['2018-01-02', 'google', 574],\n",
    "    ['2018-01-02', 'yandex', 249],\n",
    "    ['2018-01-02', 'market', 994],\n",
    "    ['2018-01-03', 'google', 1843],\n",
    "    ['2018-01-03', 'yandex', 1327],\n",
    "    ['2018-01-03', 'market', 1764],]\n",
    "date = input('Дата ГГГГ-ММ-ДД: ')\n",
    "company = input('Кампаня: ')\n",
    "for data in stats:\n",
    "    if data[0] == date and data [1] == company:\n",
    "        print('Рекламных кампаний:', data[2])"
   ]
  },
  {
   "cell_type": "markdown",
   "metadata": {},
   "source": [
    "**Задача 6**. Дан список вида:"
   ]
  },
  {
   "cell_type": "code",
   "execution_count": 26,
   "metadata": {},
   "outputs": [
    {
     "name": "stdout",
     "output_type": "stream",
     "text": [
      "13\n",
      "32\n",
      "23\n",
      "35\n",
      "103\n"
     ]
    }
   ],
   "source": [
    "data = [\n",
    "    [13, 25, 23, 34],\n",
    "    [45, 32, 44, 47],\n",
    "    [12, 33, 23, 95],\n",
    "    [13, 53, 34, 35]]\n",
    "result = 0\n",
    "for y, x in enumerate(data):\n",
    "    print(x[y])\n",
    "    result += x[y]\n",
    "print(result)\n",
    "# задачу решила не сама, а с помощью Сергея Кундрюкова\n",
    "# материалов лекции не хватило для понимания этой функции - потратила полдня для поиска решения, все безрезультатно\n",
    "# на будущее желательно показывать пример с дальнейшей интерпретацией полученного результата после применения enumerate()\n",
    "# способ вывода результата через x[y] не очевиден; самому до этого дойти очень сложно"
   ]
  },
  {
   "cell_type": "markdown",
   "metadata": {},
   "source": [
    "Напишите код, который будет вычислять сумму элементов на диагонали. Т. е. 13+32+23+35.  \n",
    "Список может быть любой длины, но всегда является \"квадратным\" (количество элементов во вложенных списках равно их количеству)."
   ]
  },
  {
   "cell_type": "code",
   "execution_count": 36,
   "metadata": {},
   "outputs": [
    {
     "name": "stdout",
     "output_type": "stream",
     "text": [
      "13\n",
      "45\n",
      "68\n",
      "103\n"
     ]
    }
   ],
   "source": [
    "data = [\n",
    "    [13, 25, 23, 34],\n",
    "    [45, 32, 44, 47],\n",
    "    [12, 33, 23, 95],\n",
    "    [13, 53, 34, 35]]\n",
    "result = 0\n",
    "i = 0\n",
    "for row in data:\n",
    "    result += data[i][i]\n",
    "    i +=1\n",
    "    print(result)\n",
    "# альтернативный способ решения (для себя) - тоже не сама решала\n",
    "# если можно, дайте несколько аналогичных заданий для тренировки"
   ]
  }
 ],
 "metadata": {
  "kernelspec": {
   "display_name": "Python 3",
   "language": "python",
   "name": "python3"
  },
  "language_info": {
   "codemirror_mode": {
    "name": "ipython",
    "version": 3
   },
   "file_extension": ".py",
   "mimetype": "text/x-python",
   "name": "python",
   "nbconvert_exporter": "python",
   "pygments_lexer": "ipython3",
   "version": "3.7.6"
  }
 },
 "nbformat": 4,
 "nbformat_minor": 2
}
